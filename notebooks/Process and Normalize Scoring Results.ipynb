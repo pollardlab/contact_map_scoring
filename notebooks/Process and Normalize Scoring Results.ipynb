{
 "cells": [
  {
   "cell_type": "markdown",
   "id": "a1251715",
   "metadata": {},
   "source": [
    "# Prepare data from raw scoring results"
   ]
  },
  {
   "cell_type": "code",
   "execution_count": 1,
   "id": "e462acd5",
   "metadata": {},
   "outputs": [],
   "source": [
    "import pandas as pd\n",
    "import bioframe as bf\n",
    "import numpy as np\n",
    "import os\n",
    "import sys"
   ]
  },
  {
   "cell_type": "code",
   "execution_count": 13,
   "id": "cc2650ae",
   "metadata": {},
   "outputs": [],
   "source": [
    "DATA_DIR = os.path.dirname(os.getcwd()) + '/data/'"
   ]
  },
  {
   "cell_type": "markdown",
   "id": "6f238039",
   "metadata": {},
   "source": [
    "## Read in files "
   ]
  },
  {
   "cell_type": "code",
   "execution_count": 22,
   "id": "62043a03",
   "metadata": {},
   "outputs": [
    {
     "name": "stderr",
     "output_type": "stream",
     "text": [
      "/Users/lgunsalus/opt/anaconda3/envs/scoring/lib/python3.7/site-packages/IPython/core/interactiveshell.py:3457: DtypeWarning: Columns (5) have mixed types.Specify dtype option on import or set low_memory=False.\n",
      "  exec(code_obj, self.user_global_ns, self.user_ns)\n"
     ]
    }
   ],
   "source": [
    "raw_scoring_results = pd.read_csv(DATA_DIR + 'scoringExamples.tsv', sep='\\t')\n",
    "flipped_scoring_results = pd.read_csv(DATA_DIR + 'scoringExamples_flipped.tsv', sep='\\t') \n",
    "flipped_scaled_scoring_results = pd.read_csv(DATA_DIR + 'scoringExamples_scaled.tsv', sep='\\t')"
   ]
  },
  {
   "cell_type": "code",
   "execution_count": 23,
   "id": "153c80d1",
   "metadata": {},
   "outputs": [
    {
     "data": {
      "text/html": [
       "<div>\n",
       "<style scoped>\n",
       "    .dataframe tbody tr th:only-of-type {\n",
       "        vertical-align: middle;\n",
       "    }\n",
       "\n",
       "    .dataframe tbody tr th {\n",
       "        vertical-align: top;\n",
       "    }\n",
       "\n",
       "    .dataframe thead th {\n",
       "        text-align: right;\n",
       "    }\n",
       "</style>\n",
       "<table border=\"1\" class=\"dataframe\">\n",
       "  <thead>\n",
       "    <tr style=\"text-align: right;\">\n",
       "      <th></th>\n",
       "      <th>chrom</th>\n",
       "      <th>start</th>\n",
       "      <th>end</th>\n",
       "      <th>var_start</th>\n",
       "      <th>var_end</th>\n",
       "      <th>ref</th>\n",
       "      <th>alt</th>\n",
       "      <th>mse</th>\n",
       "      <th>spearman</th>\n",
       "      <th>pearson</th>\n",
       "      <th>...</th>\n",
       "      <th>triangle_spearmanr</th>\n",
       "      <th>triangle_pearsonr</th>\n",
       "      <th>loops</th>\n",
       "      <th>TADs</th>\n",
       "      <th>description</th>\n",
       "      <th>contact_decay_mse</th>\n",
       "      <th>contact_decay_spearmanr</th>\n",
       "      <th>contact_decay_pearsonr</th>\n",
       "      <th>loops_overlap</th>\n",
       "      <th>TADs_overlap</th>\n",
       "    </tr>\n",
       "  </thead>\n",
       "  <tbody>\n",
       "    <tr>\n",
       "      <th>0</th>\n",
       "      <td>chr7</td>\n",
       "      <td>68730553</td>\n",
       "      <td>69779129</td>\n",
       "      <td>69254841</td>\n",
       "      <td>69254941</td>\n",
       "      <td>NaN</td>\n",
       "      <td>NaN</td>\n",
       "      <td>0.002004</td>\n",
       "      <td>0.965683</td>\n",
       "      <td>0.966873</td>\n",
       "      <td>...</td>\n",
       "      <td>0.961940</td>\n",
       "      <td>0.984612</td>\n",
       "      <td>{'wt': [], 'del': [], 'overlap_loop_in_wt': []...</td>\n",
       "      <td>{'wt': [(392, 0.7149521952031089), (432, 0.205...</td>\n",
       "      <td>random_deletion</td>\n",
       "      <td>0.001119</td>\n",
       "      <td>0.987673</td>\n",
       "      <td>0.989401</td>\n",
       "      <td>0.00</td>\n",
       "      <td>1.0</td>\n",
       "    </tr>\n",
       "    <tr>\n",
       "      <th>1</th>\n",
       "      <td>chr20</td>\n",
       "      <td>43529781</td>\n",
       "      <td>44578357</td>\n",
       "      <td>44054069</td>\n",
       "      <td>44054169</td>\n",
       "      <td>NaN</td>\n",
       "      <td>NaN</td>\n",
       "      <td>0.011047</td>\n",
       "      <td>0.981217</td>\n",
       "      <td>0.980891</td>\n",
       "      <td>...</td>\n",
       "      <td>0.985448</td>\n",
       "      <td>0.985902</td>\n",
       "      <td>{'wt': [(75, 423), (253, 424), (75, 291), (253...</td>\n",
       "      <td>{'wt': [(75, 0.8553585978123123), (240, 0.5196...</td>\n",
       "      <td>random_deletion</td>\n",
       "      <td>0.011141</td>\n",
       "      <td>0.973825</td>\n",
       "      <td>0.964475</td>\n",
       "      <td>0.25</td>\n",
       "      <td>0.5</td>\n",
       "    </tr>\n",
       "    <tr>\n",
       "      <th>2</th>\n",
       "      <td>chr14</td>\n",
       "      <td>68810793</td>\n",
       "      <td>69859369</td>\n",
       "      <td>69335081</td>\n",
       "      <td>69335181</td>\n",
       "      <td>NaN</td>\n",
       "      <td>NaN</td>\n",
       "      <td>0.004579</td>\n",
       "      <td>0.990001</td>\n",
       "      <td>0.991952</td>\n",
       "      <td>...</td>\n",
       "      <td>0.991290</td>\n",
       "      <td>0.992468</td>\n",
       "      <td>{'wt': [(124, 415), (297, 416), (418, 434), (1...</td>\n",
       "      <td>{'wt': [(17, 0.5043706474078453), (113, 0.8153...</td>\n",
       "      <td>random_deletion</td>\n",
       "      <td>0.002087</td>\n",
       "      <td>0.987200</td>\n",
       "      <td>0.986775</td>\n",
       "      <td>0.20</td>\n",
       "      <td>1.0</td>\n",
       "    </tr>\n",
       "    <tr>\n",
       "      <th>3</th>\n",
       "      <td>chr11</td>\n",
       "      <td>86622594</td>\n",
       "      <td>87671170</td>\n",
       "      <td>87146882</td>\n",
       "      <td>87146982</td>\n",
       "      <td>NaN</td>\n",
       "      <td>NaN</td>\n",
       "      <td>0.002114</td>\n",
       "      <td>0.996507</td>\n",
       "      <td>0.997073</td>\n",
       "      <td>...</td>\n",
       "      <td>0.997193</td>\n",
       "      <td>0.997305</td>\n",
       "      <td>{'wt': [(90, 112), (324, 358), (121, 295), (89...</td>\n",
       "      <td>{'wt': [(64, 0.465224714200676), (120, 0.60539...</td>\n",
       "      <td>random_deletion</td>\n",
       "      <td>0.002038</td>\n",
       "      <td>0.993652</td>\n",
       "      <td>0.997388</td>\n",
       "      <td>0.60</td>\n",
       "      <td>1.0</td>\n",
       "    </tr>\n",
       "    <tr>\n",
       "      <th>4</th>\n",
       "      <td>chrX</td>\n",
       "      <td>43440115</td>\n",
       "      <td>44488691</td>\n",
       "      <td>43964403</td>\n",
       "      <td>43964503</td>\n",
       "      <td>NaN</td>\n",
       "      <td>NaN</td>\n",
       "      <td>0.000832</td>\n",
       "      <td>0.987883</td>\n",
       "      <td>0.991395</td>\n",
       "      <td>...</td>\n",
       "      <td>0.992785</td>\n",
       "      <td>0.993906</td>\n",
       "      <td>{'wt': [(27, 119), (73, 118), (28, 72)], 'del'...</td>\n",
       "      <td>{'wt': [(26, 0.7483926295552789), (121, 0.5045...</td>\n",
       "      <td>random_deletion</td>\n",
       "      <td>0.000299</td>\n",
       "      <td>0.962554</td>\n",
       "      <td>0.959670</td>\n",
       "      <td>1.00</td>\n",
       "      <td>1.0</td>\n",
       "    </tr>\n",
       "  </tbody>\n",
       "</table>\n",
       "<p>5 rows × 32 columns</p>\n",
       "</div>"
      ],
      "text/plain": [
       "   chrom     start       end  var_start   var_end  ref  alt       mse  \\\n",
       "0   chr7  68730553  69779129   69254841  69254941  NaN  NaN  0.002004   \n",
       "1  chr20  43529781  44578357   44054069  44054169  NaN  NaN  0.011047   \n",
       "2  chr14  68810793  69859369   69335081  69335181  NaN  NaN  0.004579   \n",
       "3  chr11  86622594  87671170   87146882  87146982  NaN  NaN  0.002114   \n",
       "4   chrX  43440115  44488691   43964403  43964503  NaN  NaN  0.000832   \n",
       "\n",
       "   spearman   pearson  ...  triangle_spearmanr  triangle_pearsonr  \\\n",
       "0  0.965683  0.966873  ...            0.961940           0.984612   \n",
       "1  0.981217  0.980891  ...            0.985448           0.985902   \n",
       "2  0.990001  0.991952  ...            0.991290           0.992468   \n",
       "3  0.996507  0.997073  ...            0.997193           0.997305   \n",
       "4  0.987883  0.991395  ...            0.992785           0.993906   \n",
       "\n",
       "                                               loops  \\\n",
       "0  {'wt': [], 'del': [], 'overlap_loop_in_wt': []...   \n",
       "1  {'wt': [(75, 423), (253, 424), (75, 291), (253...   \n",
       "2  {'wt': [(124, 415), (297, 416), (418, 434), (1...   \n",
       "3  {'wt': [(90, 112), (324, 358), (121, 295), (89...   \n",
       "4  {'wt': [(27, 119), (73, 118), (28, 72)], 'del'...   \n",
       "\n",
       "                                                TADs      description  \\\n",
       "0  {'wt': [(392, 0.7149521952031089), (432, 0.205...  random_deletion   \n",
       "1  {'wt': [(75, 0.8553585978123123), (240, 0.5196...  random_deletion   \n",
       "2  {'wt': [(17, 0.5043706474078453), (113, 0.8153...  random_deletion   \n",
       "3  {'wt': [(64, 0.465224714200676), (120, 0.60539...  random_deletion   \n",
       "4  {'wt': [(26, 0.7483926295552789), (121, 0.5045...  random_deletion   \n",
       "\n",
       "   contact_decay_mse  contact_decay_spearmanr  contact_decay_pearsonr  \\\n",
       "0           0.001119                 0.987673                0.989401   \n",
       "1           0.011141                 0.973825                0.964475   \n",
       "2           0.002087                 0.987200                0.986775   \n",
       "3           0.002038                 0.993652                0.997388   \n",
       "4           0.000299                 0.962554                0.959670   \n",
       "\n",
       "   loops_overlap  TADs_overlap  \n",
       "0           0.00           1.0  \n",
       "1           0.25           0.5  \n",
       "2           0.20           1.0  \n",
       "3           0.60           1.0  \n",
       "4           1.00           1.0  \n",
       "\n",
       "[5 rows x 32 columns]"
      ]
     },
     "execution_count": 23,
     "metadata": {},
     "output_type": "execute_result"
    }
   ],
   "source": [
    "raw_scoring_results.head()"
   ]
  },
  {
   "cell_type": "markdown",
   "id": "22db20f1",
   "metadata": {},
   "source": [
    "## Examples of processing + normalization applied to raw scores"
   ]
  },
  {
   "cell_type": "markdown",
   "id": "97b4a5b2",
   "metadata": {},
   "source": [
    "### Absolute value of eigenvector track"
   ]
  },
  {
   "cell_type": "code",
   "execution_count": 24,
   "id": "9e74f0ae",
   "metadata": {},
   "outputs": [],
   "source": [
    "# note: 'DI_mse' is NOT considered\n",
    "scores_to_consider = ['mse', 'spearman', 'pearson',\n",
    "       'ssi', 'scc', 'PC_mse', 'PC_spearmanr', 'PC_pearsonr', \n",
    "       'DI_spearmanr', 'DI_pearsonr', 'insulation_mse', 'insulation_spearmanr',\n",
    "       'insulation_pearsonr', 'contact_decay_mse', 'contact_decay_spearmanr',\n",
    "       'contact_decay_pearsonr', 'triangle_mse', 'triangle_spearmanr',\n",
    "       'triangle_pearsonr', 'loops_overlap',\n",
    "       'TADs_overlap']\n"
   ]
  },
  {
   "cell_type": "code",
   "execution_count": 25,
   "id": "e5f7b2d9",
   "metadata": {},
   "outputs": [],
   "source": [
    "flipped = raw_scoring_results.copy(deep=True)\n",
    "\n",
    "for i in scores_to_consider:\n",
    "    if (i == 'PC_spearmanr') or (i == 'PC_pearsonr'): \n",
    "        flipped[i] = abs(flipped[i])"
   ]
  },
  {
   "cell_type": "markdown",
   "id": "a041f919",
   "metadata": {},
   "source": [
    "### Flip scores such that a larger value describes a bigger difference\n",
    "\n",
    "Correlation scores are flipped."
   ]
  },
  {
   "cell_type": "code",
   "execution_count": 26,
   "id": "253ec231",
   "metadata": {},
   "outputs": [],
   "source": [
    "#examples_allTypes_flipped = examples_allTypes.copy(deep=True)\n",
    "for i in scores_to_consider:\n",
    "    if ('spearman' in i) or ('pearson' in i) or ('ssi' in i) or ('correlation' in i) or ('scc' in i) or ('overlap' in i) or ('jaccard' in i):\n",
    "        flipped[i] = 1 - flipped[i]"
   ]
  },
  {
   "cell_type": "markdown",
   "id": "c5d6a3e9",
   "metadata": {},
   "source": [
    "### Normalize values"
   ]
  },
  {
   "cell_type": "code",
   "execution_count": 28,
   "id": "17bb6681",
   "metadata": {},
   "outputs": [],
   "source": [
    "# Normalize/scale relative to random_deletion mean\n",
    "def scaleScores(scores, measure='mean'):\n",
    "    scores_copy = scores.copy()\n",
    "    setForNormalizing = flipped[flipped['description'] == 'random_deletion']\n",
    "    for i in scores_to_consider:\n",
    "        if measure == 'mean':\n",
    "            scores_copy[i] = [(x/setForNormalizing[i].mean()) for x in scores[i]]\n",
    "        elif measure == 'std':\n",
    "            scores_copy[i] = [(x/setForNormalizing[i].std()) for x in scores[i]]\n",
    "    return scores_copy\n",
    "\n",
    "flipped_scaled = scaleScores(flipped) # Takes 2 mins to scale"
   ]
  },
  {
   "cell_type": "code",
   "execution_count": null,
   "id": "c04bbcea",
   "metadata": {},
   "outputs": [],
   "source": []
  }
 ],
 "metadata": {
  "kernelspec": {
   "display_name": "Python 3 (ipykernel)",
   "language": "python",
   "name": "python3"
  },
  "language_info": {
   "codemirror_mode": {
    "name": "ipython",
    "version": 3
   },
   "file_extension": ".py",
   "mimetype": "text/x-python",
   "name": "python",
   "nbconvert_exporter": "python",
   "pygments_lexer": "ipython3",
   "version": "3.7.10"
  }
 },
 "nbformat": 4,
 "nbformat_minor": 5
}
